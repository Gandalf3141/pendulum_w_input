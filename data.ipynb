{
 "cells": [
  {
   "cell_type": "code",
   "execution_count": 1,
   "metadata": {},
   "outputs": [],
   "source": [
    "import torch\n",
    "import numpy as np\n",
    "import scipy\n",
    "#packages\n",
    "from matplotlib import legend\n",
    "import pandas as pd\n",
    "import matplotlib.pyplot as plt\n",
    "import torch\n",
    "from torch import nn\n",
    "import os\n",
    "\n",
    "import numpy as np\n",
    "#from torchdyn.numerics import odeint\n",
    "from torchdiffeq import odeint\n",
    "from icecream import ic\n",
    "from tqdm import tqdm\n",
    "import scipy\n",
    "from itertools import chain\n",
    "import cProfile\n",
    "import pstats\n",
    "from get_data import  get_data"
   ]
  },
  {
   "cell_type": "code",
   "execution_count": 36,
   "metadata": {},
   "outputs": [
    {
     "name": "stderr",
     "output_type": "stream",
     "text": [
      "ic| sign: 1\n"
     ]
    },
    {
     "data": {
      "text/plain": [
       "[<matplotlib.lines.Line2D at 0x1a4a7d226d0>]"
      ]
     },
     "execution_count": 36,
     "metadata": {},
     "output_type": "execute_result"
    },
    {
     "data": {
      "image/png": "[encoded data removed]",
      "text/plain": [
       "<Figure size 640x480 with 1 Axes>"
      ]
     },
     "metadata": {},
     "output_type": "display_data"
    }
   ],
   "source": [
    "t = np.linspace(0,90,600)\n",
    "\n",
    "a = np.random.uniform(0.1, 0.3, 1)\n",
    "b = np.random.uniform(1, 5, 1)\n",
    "c = np.random.uniform(0, 5, 1)\n",
    "sign = 1 if np.random.random() < 0.5 else -1\n",
    "ic(sign)\n",
    "y = sign * a * np.tanh((t - 10)/5 )\n",
    "# y[200:300] = 0.1 * np.cos(2 *t[200:300])**2\n",
    "# y[300:500] = sign * a/100 * np.tan((t[300:500] )/10 )\n",
    "# y[500:700] = sign * a/100 * (t[500:700]/10)**2\n",
    "y[0:100] = 0\n",
    "y[100:200] = y[100:200] + a  * np.sin(t[100:200] * b)\n",
    "y[200:300] = y[200:300] + a  * t[200:300] / 30\n",
    "y[300:400] = y[300:400] + a  * t[300:400] / 30\n",
    "\n",
    "plt.plot(y)"
   ]
  },
  {
   "cell_type": "code",
   "execution_count": null,
   "metadata": {},
   "outputs": [],
   "source": [
    "greek_letterz=[chr(code) for code in range(945,970)] #7 theta 24 omega\n",
    "\n",
    "print(greek_letterz)\n",
    "for i,x in enumerate(greek_letterz):\n",
    "    print(i,x)"
   ]
  },
  {
   "cell_type": "code",
   "execution_count": null,
   "metadata": {},
   "outputs": [],
   "source": [
    "\n",
    "    input_data, test_data, time, initial_values, input_data_w_time = get_data(x0 = np.pi/4, y0 = 0.1, use_fixed_init = False, t0=start_time, t1=stop_time, \n",
    "                                                                                   time_steps=timesteps, num_of_inits=num_of_inits,\n",
    "                                                                                     normalize=False, add_noise=False, u_option=\"tanh\",  set_seed=False)"
   ]
  },
  {
   "cell_type": "code",
   "execution_count": null,
   "metadata": {},
   "outputs": [],
   "source": [
    "\n",
    "def input(t, u_option):\n",
    "  \n",
    "  if u_option==\"noise\":\n",
    "   return np.random.normal(0, 0.2, len(t))\n",
    "  \n",
    "  if u_option==\"sin\":\n",
    "   return 0.1 * np.sin(t)\n",
    "  \n",
    "  if u_option==\"cos\":\n",
    "   return np.cos(t)\n",
    "  \n",
    "\n",
    "  else: \n",
    "   return 0\n",
    "  \n",
    "\n",
    "def func(y,t, u):\n",
    "  f = 1\n",
    "  #0.5\n",
    "  \n",
    "  return np.array([y[1], 1/f*(-np.sin(y[0])- 1/7*y[1] + u )])\n"
   ]
  },
  {
   "cell_type": "code",
   "execution_count": null,
   "metadata": {},
   "outputs": [],
   "source": [
    "t =np.linspace(0,30,20)\n",
    "steps = np.random.uniform(-0.02, 0.02, len(t))\n",
    "steps[0] = np.random.uniform(-0.2, 0.2, 1)\n",
    "walk = np.cumsum(steps)\n",
    "walk\n",
    "\n",
    "\n",
    "#0.1 * np.sin(t)"
   ]
  },
  {
   "cell_type": "code",
   "execution_count": null,
   "metadata": {},
   "outputs": [],
   "source": [
    "a = func(np.array([1, 0.1]), t=5 ,args=\"noise\")\n",
    "b = func(a, t=5 ,args=\"noise\")\n",
    "a,b"
   ]
  },
  {
   "cell_type": "code",
   "execution_count": null,
   "metadata": {},
   "outputs": [],
   "source": [
    "\n",
    "n=400\n",
    "\n",
    "t = np.linspace(0, 60, n)\n",
    "\n",
    "u_option = \"sin\"\n",
    "#\n",
    "for j in range(1):\n",
    "    y0_list_w = np.random.uniform(-np.pi/3, np.pi/3, size=(1, 1))\n",
    "    y0_list_o = np.random.uniform(-0.1, 0.1, size=(1, 1))\n",
    "    y0_list = np.concatenate([y0_list_w, y0_list_o], axis=1)\n",
    "\n",
    "    z0 = y0_list[0]\n",
    "    u = input(t, u_option)\n",
    "\n",
    "    #u = np.sin(3*t)/2\n",
    "    #u = (t**2 - 2*t)*0.0001\n",
    "\n",
    "    # \n",
    "    out = np.zeros((len(t), 2))\n",
    "    out[0] = z0\n",
    "\n",
    "    for i in range(1, n):\n",
    "        t_span = [t[i-1], t[i]]\n",
    "        z = scipy.integrate.odeint(func, out[i-1], t_span, args = (u[i],))\n",
    "        out[i] = z[1]\n",
    "\n",
    "    plt.plot(t,out[:,0])\n",
    "plt.grid()\n",
    "plt.show()"
   ]
  },
  {
   "cell_type": "code",
   "execution_count": null,
   "metadata": {},
   "outputs": [],
   "source": [
    "input_data, test_data, time, initial_values = generate_data(x0 = np.pi/4, y0 = 0.1, use_fixed_init = False, t0=0, t1=60, \n",
    "                                           time_steps=200, num_of_inits=10, normalize=True, add_noise=False, u_option=\"noise\")\n",
    "\n",
    "ic(input_data.size())\n",
    "ic(test_data.size())"
   ]
  },
  {
   "cell_type": "code",
   "execution_count": null,
   "metadata": {},
   "outputs": [],
   "source": [
    "for x in input_data:\n",
    "    plt.plot(time, x[:,2])\n",
    "\n",
    "plt.show()"
   ]
  },
  {
   "cell_type": "code",
   "execution_count": null,
   "metadata": {},
   "outputs": [],
   "source": [
    "train_size = int(0.8 * len(input_data))\n",
    "test_size = len(input_data) - train_size\n",
    "train_dataset, test_dataset = torch.utils.data.random_split(input_data, [train_size, test_size])\n",
    "\n",
    "ic(train_dataset)\n",
    "for x in train_dataset:\n",
    "    ic(x)"
   ]
  },
  {
   "cell_type": "code",
   "execution_count": null,
   "metadata": {},
   "outputs": [],
   "source": [
    "\n",
    "def get_data(x0 = np.pi/4, y0 = 0.1, use_fixed_init = False, t0=0, t1=30, time_steps=1000, num_of_inits=1, normalize=True, add_noise=False, u_option=\"noise\"):\n",
    "\n",
    "    np.random.seed(seed=42)\n",
    "\n",
    "    \n",
    "    y0 = [x0, y0]\n",
    "    \n",
    "    t = np.linspace(t0, t1,num=time_steps)\n",
    "    y0_list_w = np.random.uniform(-np.pi/1, np.pi/1, size=(num_of_inits, 1)) \n",
    "    y0_list_o = np.random.uniform(-0.2, 0.2, size=(num_of_inits, 1)) \n",
    "    y0_list = np.concatenate([y0_list_w, y0_list_o], axis=1)\n",
    "    \n",
    "    if use_fixed_init:\n",
    "      y0_list = [y0]\n",
    "      \n",
    "    trajectory_list = []\n",
    "    input_data_list = []\n",
    "    input_data_w_time_list = []\n",
    "\n",
    "    for i, y0 in enumerate(y0_list):\n",
    "\n",
    "      np.random.seed(seed=i)\n",
    "      \n",
    "      out = np.zeros((len(t), 2))\n",
    "     \n",
    "      out[0] = y0_list[i]\n",
    "      \n",
    "      u = input(t, u_option)\n",
    "     \n",
    "      for i in range(1, len(t)):\n",
    "\n",
    "        t_span = [t[i-1], t[i]]\n",
    "        z = scipy.integrate.odeint(func, out[i-1], t_span, args = (u[i],))\n",
    "\n",
    "        out[i] = z[1]\n",
    "\n",
    "      out = torch.tensor(out)\n",
    "      u = torch.tensor(u).view(1,len(t))\n",
    "      u = u.transpose(0,1)\n",
    "      time = torch.tensor(t)\n",
    "      time = time.view(1,len(t))\n",
    "      time = time.transpose(0,1)\n",
    "\n",
    "      trajectory_list.append(out)\n",
    "      input_data_list.append(torch.cat((u,out), dim=-1))\n",
    "      input_data_w_time_list.append(torch.cat((time,u,out), dim=-1))\n",
    "\n",
    "    test_data = torch.stack(trajectory_list)\n",
    "    input_data = torch.stack(input_data_list)\n",
    "\n",
    "    input_data_w_time = torch.stack(input_data_w_time_list)\n",
    "\n",
    "    if normalize:\n",
    "      \n",
    "     test_data = torch.nn.functional.normalize(test_data) \n",
    "     input_data = torch.nn.functional.normalize(input_data) \n",
    "     input_data_w_time = torch.nn.functional.normalize(input_data_w_time) \n",
    "    #  test_data = test_data/torch.max(abs(test_data))\n",
    "    #  input_data = input_data/torch.max(abs(input_data))\n",
    "    #  input_data_w_time = input_data_w_time/torch.max(abs(input_data_w_time))\n",
    "\n",
    "     \n",
    "    return input_data, test_data, time, torch.tensor(y0_list), input_data_w_time\n",
    "\n"
   ]
  },
  {
   "cell_type": "code",
   "execution_count": null,
   "metadata": {},
   "outputs": [],
   "source": [
    "window_size = 1\n",
    "start_time = 0\n",
    "stop_time = 10\n",
    "timesteps = 15\n",
    "num_of_inits = 3\n",
    "option_odestep = True\n",
    "losses=[]\n",
    "\n",
    "input_data, test_data, time, initial_values, input_data_w_time = get_data(x0 = np.pi/4, y0 = 0.1, use_fixed_init = False, t0=start_time, t1=stop_time, \n",
    "                                                                                time_steps=timesteps, num_of_inits=num_of_inits, normalize=False, add_noise=False, u_option=\"noise\")\n",
    "\n",
    "\n",
    "train_size = int(0.8 * len(input_data))\n",
    "test_size = len(input_data) - train_size\n",
    "train_dataset, test_dataset = torch.utils.data.random_split(input_data, [train_size, test_size])"
   ]
  },
  {
   "cell_type": "code",
   "execution_count": null,
   "metadata": {},
   "outputs": [],
   "source": [
    "train_dataset[:][:,0:8, :]"
   ]
  },
  {
   "cell_type": "code",
   "execution_count": null,
   "metadata": {},
   "outputs": [],
   "source": [
    "torch.manual_seed(3)\n",
    "a = torch.rand(20, 100, 2)*15\n",
    "b = torch.rand(20, 100, 2)*6\n",
    "a=a-b\n",
    "ic(a.size(dim=1))\n",
    "#a = a/torch.max(abs(a))\n",
    "\n",
    "a = torch.nn.functional.normalize(a)\n",
    "#ic(a)\n",
    "for i in range(20):\n",
    "    print(np.linalg.norm(a[i,:,0].numpy()), torch.mean(a[i,:,0]))\n"
   ]
  }
 ],
 "metadata": {
  "kernelspec": {
   "display_name": "my_test_env",
   "language": "python",
   "name": "python3"
  },
  "language_info": {
   "codemirror_mode": {
    "name": "ipython",
    "version": 3
   },
   "file_extension": ".py",
   "mimetype": "text/x-python",
   "name": "python",
   "nbconvert_exporter": "python",
   "pygments_lexer": "ipython3",
   "version": "3.11.7"
  }
 },
 "nbformat": 4,
 "nbformat_minor": 2
}
